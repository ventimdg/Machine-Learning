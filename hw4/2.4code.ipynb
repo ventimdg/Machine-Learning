{
 "cells": [
  {
   "cell_type": "code",
   "execution_count": 2,
   "metadata": {},
   "outputs": [],
   "source": [
    "import numpy as np"
   ]
  },
  {
   "cell_type": "code",
   "execution_count": 5,
   "metadata": {},
   "outputs": [
    {
     "name": "stdout",
     "output_type": "stream",
     "text": [
      "Part A: s_0 = [0.9478464369215823, 0.8807970779778823, 0.8021838885585817, 0.52497918747894]\n",
      "Part B: w_1 = [ 1.32465198  3.04991697 -6.82910388]\n",
      "Part C: s_1 = [0.9473782606838014, 0.9745509652445994, 0.03124555884042827, 0.10437391354374762]\n",
      "Part B: w_2 = [ 1.36602464  4.15753654 -9.19961627]\n"
     ]
    }
   ],
   "source": [
    "#Datapoints\n",
    "\n",
    "X = np.array(\n",
    "[[0.2, 3.1, 1],\n",
    "[1.0, 3.0, 1],\n",
    "[-0.2, 1.2, 1],\n",
    "[1.0, 1.1, 1]]\n",
    ") \n",
    "\n",
    "#Labels \n",
    "y = np.array([1,1,0,0]).T\n",
    "\n",
    "#inital weights\n",
    "w_0 = np.array([-1, 1, 0]).T\n",
    "\n",
    "#S(Gamma)\n",
    "def logistic(gamma):\n",
    "    return 1/(1+np.exp(-gamma))\n",
    "\n",
    "s_0 = []\n",
    "\n",
    "for i in range(4):\n",
    "    num = (X @ w_0)[i]\n",
    "    s_0.append(logistic(num))\n",
    "\n",
    "print(\"Part A: s_0 = \" + str(s_0))\n",
    "\n",
    "s_0 = np.array(s_0)\n",
    "\n",
    "grad =  X.T @ (s_0.T - y)\n",
    "hess = X.T @ (np.diag(s_0) @ np.diag(np.ones(s_0.shape) - s_0)) @ X\n",
    "\n",
    "w_1 = w_0 - np.linalg.inv(hess) @ grad\n",
    "\n",
    "print(\"Part B: w_1 = \" + str(w_1))\n",
    "\n",
    "s_1 = []\n",
    "\n",
    "for i in range(4):\n",
    "    num = (X @ w_1)[i]\n",
    "    s_1.append(logistic(num))\n",
    "\n",
    "print(\"Part C: s_1 = \" + str(s_1))\n",
    "\n",
    "s_1 = np.array(s_1,)\n",
    "\n",
    "grad =  X.T @ (s_1.T - y)\n",
    "hess = X.T @ (np.diag(s_1) @ np.diag(np.ones(s_1.shape) - s_1)) @ X\n",
    "\n",
    "w_2 = w_1 - np.linalg.inv(hess) @ grad\n",
    "\n",
    "print(\"Part B: w_2 = \" + str(w_2))\n",
    "\n",
    "\n",
    "\n",
    "\n",
    "\n"
   ]
  },
  {
   "cell_type": "code",
   "execution_count": null,
   "metadata": {},
   "outputs": [],
   "source": []
  }
 ],
 "metadata": {
  "kernelspec": {
   "display_name": "Python 3",
   "language": "python",
   "name": "python3"
  },
  "language_info": {
   "codemirror_mode": {
    "name": "ipython",
    "version": 3
   },
   "file_extension": ".py",
   "mimetype": "text/x-python",
   "name": "python",
   "nbconvert_exporter": "python",
   "pygments_lexer": "ipython3",
   "version": "3.7.3"
  },
  "orig_nbformat": 4
 },
 "nbformat": 4,
 "nbformat_minor": 2
}
